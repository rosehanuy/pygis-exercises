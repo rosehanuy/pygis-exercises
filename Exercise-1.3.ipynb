{
 "cells": [
  {
   "cell_type": "code",
   "execution_count": 13,
   "metadata": {},
   "outputs": [],
   "source": [
    "from shapely.geometry import Point, LineString, Polygon"
   ]
  },
  {
   "cell_type": "code",
   "execution_count": 1,
   "metadata": {},
   "outputs": [],
   "source": [
    "import pandas as pd"
   ]
  },
  {
   "cell_type": "code",
   "execution_count": 4,
   "metadata": {},
   "outputs": [],
   "source": [
    "data = pd.read_csv('travelTimes_2015_Helsinki.txt', sep=';')"
   ]
  },
  {
   "cell_type": "code",
   "execution_count": 7,
   "metadata": {},
   "outputs": [],
   "source": [
    "data = data[['from_x', 'from_y', 'to_x', 'to_y']]"
   ]
  },
  {
   "cell_type": "code",
   "execution_count": null,
   "metadata": {},
   "outputs": [],
   "source": [
    "def get_origin_geom(row):\n",
    "    return Point(row['from_x'], row['from_y'])\n",
    "\n",
    "data['origin_point'] = data.apply(get_origin_geom, axis=1)"
   ]
  },
  {
   "cell_type": "code",
   "execution_count": 16,
   "metadata": {},
   "outputs": [
    {
     "name": "stdout",
     "output_type": "stream",
     "text": [
      "<bound method NDFrame.head of           from_x     from_y       to_x       to_y  \\\n",
      "0      24.970438  60.311917  24.856034  60.399941   \n",
      "1      24.970438  60.311917  24.860568  60.400014   \n",
      "2      24.970438  60.311917  24.865102  60.400086   \n",
      "3      24.970438  60.311917  24.869636  60.400159   \n",
      "4      24.970438  60.311917  24.842582  60.397478   \n",
      "...          ...        ...        ...        ...   \n",
      "14638  24.970438  60.311917  24.559702  60.174754   \n",
      "14639  24.970438  60.311917  24.564204  60.174837   \n",
      "14640  24.970438  60.311917  24.555367  60.172428   \n",
      "14641  24.970438  60.311917  24.559868  60.172511   \n",
      "14642  24.970438  60.311917  24.555534  60.170185   \n",
      "\n",
      "                        origin_point  \n",
      "0      POINT (24.9704379 60.3119173)  \n",
      "1      POINT (24.9704379 60.3119173)  \n",
      "2      POINT (24.9704379 60.3119173)  \n",
      "3      POINT (24.9704379 60.3119173)  \n",
      "4      POINT (24.9704379 60.3119173)  \n",
      "...                              ...  \n",
      "14638  POINT (24.9704379 60.3119173)  \n",
      "14639  POINT (24.9704379 60.3119173)  \n",
      "14640  POINT (24.9704379 60.3119173)  \n",
      "14641  POINT (24.9704379 60.3119173)  \n",
      "14642  POINT (24.9704379 60.3119173)  \n",
      "\n",
      "[14643 rows x 5 columns]>\n"
     ]
    }
   ],
   "source": []
  }
 ],
 "metadata": {
  "kernelspec": {
   "display_name": "Python 3.10.5 ('gis-env')",
   "language": "python",
   "name": "python3"
  },
  "language_info": {
   "codemirror_mode": {
    "name": "ipython",
    "version": 3
   },
   "file_extension": ".py",
   "mimetype": "text/x-python",
   "name": "python",
   "nbconvert_exporter": "python",
   "pygments_lexer": "ipython3",
   "version": "3.10.5"
  },
  "orig_nbformat": 4,
  "vscode": {
   "interpreter": {
    "hash": "6fec198ccafbb03808b669965550bc00948e2a48b1c1d6d09aee96074b505d8b"
   }
  }
 },
 "nbformat": 4,
 "nbformat_minor": 2
}
